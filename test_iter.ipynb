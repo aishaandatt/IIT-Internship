{
 "cells": [
  {
   "cell_type": "code",
   "execution_count": 1,
   "metadata": {},
   "outputs": [],
   "source": [
    "import face_recognition\n",
    "from pymongo import MongoClient"
   ]
  },
  {
   "cell_type": "code",
   "execution_count": 2,
   "metadata": {},
   "outputs": [],
   "source": [
    "import uuid"
   ]
  },
  {
   "cell_type": "code",
   "execution_count": 3,
   "metadata": {},
   "outputs": [
    {
     "data": {
      "text/plain": [
       "UUID('2fe357cf-68b7-44b9-956f-3f1d7191fbd5')"
      ]
     },
     "execution_count": 3,
     "metadata": {},
     "output_type": "execute_result"
    }
   ],
   "source": [
    "uuid.uuid4()"
   ]
  },
  {
   "cell_type": "code",
   "execution_count": 4,
   "metadata": {},
   "outputs": [],
   "source": [
    "from PIL import Image"
   ]
  },
  {
   "cell_type": "code",
   "execution_count": 5,
   "metadata": {},
   "outputs": [],
   "source": [
    "client = MongoClient('localhost',27017)\n",
    "db = client['faces-test2']"
   ]
  },
  {
   "cell_type": "code",
   "execution_count": 6,
   "metadata": {},
   "outputs": [],
   "source": [
    "collection = db['faces3']"
   ]
  },
  {
   "cell_type": "code",
   "execution_count": 87,
   "metadata": {},
   "outputs": [],
   "source": [
    "def Register(a,b):\n",
    "# Load the jpg file into a numpy array\n",
    "    path_reg =a \n",
    "    name = b\n",
    "    image = face_recognition.load_image_file(path_reg)\n",
    "    face_locations = face_recognition.face_locations(\n",
    "        image, number_of_times_to_upsample=0, model=\"cnn\")\n",
    "\n",
    "    print(\"Found {} face(s) in this photograph.\".format(len(face_locations)))\n",
    "\n",
    "    for face_location in face_locations:\n",
    "\n",
    "        # Print the location of each face in this image\n",
    "        top, right, bottom, left = face_location\n",
    "        print(\"A face is located at pixel location Top: {}, Left: {}, Bottom: {}, Right: {}\".format(\n",
    "            top, left, bottom, right))\n",
    "\n",
    "        # You can access the actual face itself like this:\n",
    "        face_image = image[top:bottom, left:right]\n",
    "        pil_image = Image.fromarray(face_image)\n",
    "        # pil_image.show()\n",
    "        k = pil_image.resize((250, 250))\n",
    "        Name = name\n",
    "        # path_store = '/Users/aishaandatt/Downloads/IIT_Temp/prototype_faces/{}.jpg'.format(\n",
    "        #     Name)\n",
    "        k.save(path_reg)\n",
    "        ID = uuid.uuid4()\n",
    "        dict1 = [{'name': Name, 'ID': (str)(ID),\n",
    "                'image': path_reg,'enc':(face_recognition.face_encodings(image)[0]).tolist()}]\n",
    "        collection.insert(dict1)"
   ]
  },
  {
   "cell_type": "code",
   "execution_count": 126,
   "metadata": {},
   "outputs": [
    {
     "name": "stdout",
     "output_type": "stream",
     "text": [
      "Found 1 face(s) in this photograph.\n",
      "A face is located at pixel location Top: 0, Left: 0, Bottom: 231, Right: 228\n"
     ]
    },
    {
     "name": "stderr",
     "output_type": "stream",
     "text": [
      "<ipython-input-87-6312d9375baf>:30: DeprecationWarning: insert is deprecated. Use insert_one or insert_many instead.\n",
      "  collection.insert(dict1)\n"
     ]
    }
   ],
   "source": [
    "Register('/Users/aishaandatt/Downloads/IIT_Temp/prototype_faces/Slim Shady.jpg','Eminen')"
   ]
  },
  {
   "cell_type": "code",
   "execution_count": 128,
   "metadata": {},
   "outputs": [
    {
     "data": {
      "text/plain": [
       "128"
      ]
     },
     "execution_count": 128,
     "metadata": {},
     "output_type": "execute_result"
    }
   ],
   "source": [
    "len(collection.find_one({'name':'Eminen'})['enc'])"
   ]
  },
  {
   "cell_type": "code",
   "execution_count": 131,
   "metadata": {},
   "outputs": [
    {
     "data": {
      "text/plain": [
       "[-0.09871198236942291,\n",
       " 0.1380830556154251,\n",
       " -0.04849405586719513,\n",
       " -0.07033798843622208,\n",
       " -0.0940610021352768,\n",
       " 0.05620153993368149,\n",
       " 0.016795849427580833,\n",
       " -0.08858920633792877,\n",
       " 0.1827227771282196,\n",
       " -0.031530506908893585,\n",
       " 0.13501490652561188,\n",
       " -0.008740831166505814,\n",
       " -0.3031512498855591,\n",
       " -0.007736966013908386,\n",
       " -0.008474290370941162,\n",
       " 0.11318399012088776,\n",
       " -0.29074805974960327,\n",
       " -0.11426711827516556,\n",
       " -0.04574103653430939,\n",
       " -0.09239774197340012,\n",
       " 0.08755606412887573,\n",
       " 0.10291540622711182,\n",
       " -0.07655707746744156,\n",
       " 0.1197095438838005,\n",
       " -0.14193859696388245,\n",
       " -0.32613930106163025,\n",
       " -0.07035794854164124,\n",
       " -0.0824095755815506,\n",
       " 0.08918334543704987,\n",
       " -0.04690736532211304,\n",
       " -0.015634143725037575,\n",
       " 0.044224973767995834,\n",
       " -0.14574190974235535,\n",
       " -0.0018092840909957886,\n",
       " 0.007493786513805389,\n",
       " 0.028093190863728523,\n",
       " -0.0039045363664627075,\n",
       " -0.05510684847831726,\n",
       " 0.1296769082546234,\n",
       " 0.030773265287280083,\n",
       " -0.10947313904762268,\n",
       " -0.0195646733045578,\n",
       " 0.07049277424812317,\n",
       " 0.3005962669849396,\n",
       " 0.2190341353416443,\n",
       " 0.06462185084819794,\n",
       " 0.03647696226835251,\n",
       " -0.021435260772705078,\n",
       " 0.0719970315694809,\n",
       " -0.3054206371307373,\n",
       " 0.041114989668130875,\n",
       " 0.16318130493164062,\n",
       " 0.06659475713968277,\n",
       " 0.07301369309425354,\n",
       " -0.03408058360219002,\n",
       " -0.22244982421398163,\n",
       " -0.0815056562423706,\n",
       " 0.10079875588417053,\n",
       " -0.2502291798591614,\n",
       " 0.16900049149990082,\n",
       " 0.10007846355438232,\n",
       " -0.17906063795089722,\n",
       " -0.05593366175889969,\n",
       " -0.03825514763593674,\n",
       " 0.21100154519081116,\n",
       " 0.10715831816196442,\n",
       " -0.15158861875534058,\n",
       " -0.1679784059524536,\n",
       " 0.18968050181865692,\n",
       " -0.274450421333313,\n",
       " -0.1132737249135971,\n",
       " -0.04146754369139671,\n",
       " -0.07478845119476318,\n",
       " -0.17269374430179596,\n",
       " -0.31017065048217773,\n",
       " 0.05446530878543854,\n",
       " 0.36237841844558716,\n",
       " 0.20298130810260773,\n",
       " -0.1420643925666809,\n",
       " 0.03744804114103317,\n",
       " -0.060805607587099075,\n",
       " 0.0075900256633758545,\n",
       " 0.08595366775989532,\n",
       " 0.09828051924705505,\n",
       " -0.07081122696399689,\n",
       " -0.06716194748878479,\n",
       " -0.14557848870754242,\n",
       " 0.07623250782489777,\n",
       " 0.22262690961360931,\n",
       " 0.025199994444847107,\n",
       " -0.02263476699590683,\n",
       " 0.30205219984054565,\n",
       " 0.02598104625940323,\n",
       " 0.004504300653934479,\n",
       " 0.030364016070961952,\n",
       " 0.11382362246513367,\n",
       " -0.10262784361839294,\n",
       " -0.03586847707629204,\n",
       " -0.09036504477262497,\n",
       " 0.03375767171382904,\n",
       " 0.02660515159368515,\n",
       " -0.08962647616863251,\n",
       " 0.04061424732208252,\n",
       " 0.15805135667324066,\n",
       " -0.1270984262228012,\n",
       " 0.23646435141563416,\n",
       " -0.030240722000598907,\n",
       " -0.006812959909439087,\n",
       " -0.033231668174266815,\n",
       " -0.050243720412254333,\n",
       " -0.12692652642726898,\n",
       " -0.007503151893615723,\n",
       " 0.218566432595253,\n",
       " -0.21359488368034363,\n",
       " 0.17951035499572754,\n",
       " 0.18040642142295837,\n",
       " 0.09361870586872101,\n",
       " 0.1879720836877823,\n",
       " 0.00760699063539505,\n",
       " 0.07925412803888321,\n",
       " 0.012500777840614319,\n",
       " -0.06618097424507141,\n",
       " -0.22082163393497467,\n",
       " -0.08716844767332077,\n",
       " 0.03092695027589798,\n",
       " -0.10127240419387817,\n",
       " 0.052366361021995544,\n",
       " 0.07602301239967346]"
      ]
     },
     "execution_count": 131,
     "metadata": {},
     "output_type": "execute_result"
    }
   ],
   "source": [
    "k=collection.find_one({'name':'Eminen'})['enc']\n",
    "k"
   ]
  },
  {
   "cell_type": "code",
   "execution_count": 91,
   "metadata": {},
   "outputs": [],
   "source": [
    "import numpy as np"
   ]
  },
  {
   "cell_type": "code",
   "execution_count": 103,
   "metadata": {},
   "outputs": [
    {
     "data": {
      "text/plain": [
       "array([-0.0973622 ,  0.18620518,  0.13628185, -0.04553589, -0.08528825,\n",
       "        0.03733363, -0.05295021,  0.01554631,  0.06497864,  0.04502828,\n",
       "        0.24945077, -0.00120175, -0.22037995, -0.07981827, -0.08682442,\n",
       "        0.11980008, -0.12894914, -0.05666726, -0.09687562, -0.08112618,\n",
       "        0.02677811,  0.09061747,  0.01603471, -0.03776994, -0.14738131,\n",
       "       -0.26849073, -0.04294798, -0.09834747, -0.03289108, -0.12114333,\n",
       "        0.0105162 ,  0.05634832, -0.13700566, -0.06269848,  0.01823708,\n",
       "        0.01101268, -0.10060079, -0.02288117,  0.16733114,  0.07141832,\n",
       "       -0.13315228,  0.11951458, -0.00587065,  0.35374814,  0.2819739 ,\n",
       "        0.00166974, -0.00142069, -0.01167107,  0.09812087, -0.26928392,\n",
       "       -0.00243657,  0.19353712,  0.09594403,  0.0601811 ,  0.06566051,\n",
       "       -0.0634193 , -0.00396085,  0.15964691, -0.16992621,  0.07106643,\n",
       "       -0.0129659 , -0.19354019,  0.02233574, -0.09456348,  0.16595681,\n",
       "        0.11399249, -0.11136556, -0.12245128,  0.17904688, -0.09632167,\n",
       "       -0.08098558,  0.06715878, -0.10522541, -0.12698531, -0.276384  ,\n",
       "        0.06008376,  0.36830553,  0.13717802, -0.25234902,  0.00916145,\n",
       "       -0.10034443,  0.01632576,  0.03118208,  0.10679849, -0.08080385,\n",
       "       -0.05202111, -0.07577254, -0.0770667 ,  0.19020185, -0.02588797,\n",
       "       -0.08728951,  0.23703425,  0.02321578,  0.01116282,  0.11261481,\n",
       "       -0.03538091, -0.08563464, -0.07465257, -0.1114245 , -0.02475561,\n",
       "       -0.09134372, -0.22096616, -0.0302638 ,  0.11030599, -0.13282107,\n",
       "        0.16914666, -0.0020311 ,  0.04708675, -0.05464378,  0.00223885,\n",
       "        0.00058428,  0.02264448,  0.18684061, -0.25266099,  0.22955528,\n",
       "        0.16719896,  0.00302577,  0.12967727,  0.12636356,  0.06918173,\n",
       "       -0.07469966,  0.01615307, -0.06718171, -0.11507238,  0.00875484,\n",
       "       -0.02339318,  0.08055636,  0.0428943 ])"
      ]
     },
     "execution_count": 103,
     "metadata": {},
     "output_type": "execute_result"
    }
   ],
   "source": [
    "k1=np.array([k])\n",
    "k1[0]"
   ]
  },
  {
   "cell_type": "code",
   "execution_count": 154,
   "metadata": {},
   "outputs": [
    {
     "name": "stdout",
     "output_type": "stream",
     "text": [
      "It's not a picture of me!\n",
      "It's not a picture of me!\n",
      "It's not a picture of me!\n",
      "It's not a picture of me!\n",
      "It's a picture of me!\n",
      "It's not a picture of me!\n",
      "It's not a picture of me!\n",
      "It's not a picture of me!\n",
      "It's not a picture of me!\n",
      "It's not a picture of me!\n",
      "It's not a picture of me!\n",
      "It's not a picture of me!\n",
      "It's not a picture of me!\n",
      "It's not a picture of me!\n",
      "It's not a picture of me!\n",
      "It's not a picture of me!\n",
      "It's not a picture of me!\n"
     ]
    }
   ],
   "source": [
    "\n",
    "picture_of_me = face_recognition.load_image_file(\"/Users/aishaandatt/Downloads/IIT_Temp/prototype_faces/Aishaan.jpg\")\n",
    "my_face_encoding = face_recognition.face_encodings(picture_of_me)[0]\n",
    "\n",
    "# my_face_encoding now contains a universal 'encoding' of my facial features that can be compared to any other picture of a face!\n",
    "\n",
    "\n",
    "# Now we can see the two face encodings are of the same person with `compare_faces`!\n",
    "for r in db['faces3'].find({}):\n",
    "    results = face_recognition.compare_faces([my_face_encoding], np.array([r['enc']])[0])\n",
    "\n",
    "    if results[0] == True:\n",
    "        print(\"It's a picture of me!\")\n",
    "        \n",
    "    else:\n",
    "        print(\"It's not a picture of me!\")"
   ]
  },
  {
   "cell_type": "code",
   "execution_count": 156,
   "metadata": {},
   "outputs": [
    {
     "name": "stdout",
     "output_type": "stream",
     "text": [
      "Unknown\n",
      "Unknown\n",
      "Unknown\n",
      "Unknown\n",
      "Aishaan\n",
      "Unknown\n",
      "Unknown\n",
      "Unknown\n",
      "Unknown\n",
      "Unknown\n",
      "Unknown\n",
      "Unknown\n",
      "Unknown\n",
      "Unknown\n",
      "Unknown\n",
      "Unknown\n",
      "Unknown\n"
     ]
    }
   ],
   "source": [
    "picture_of_me = face_recognition.load_image_file(\"/Users/aishaandatt/Downloads/IIT_Temp/prototype_faces/Aishaan.jpg\")\n",
    "my_face_encoding = face_recognition.face_encodings(picture_of_me)[0]\n",
    "ctr=0\n",
    "for r in db['faces3'].find({}):\n",
    "    # print(r['image'])\n",
    "    ctr = ctr+1\n",
    "    db_img = face_recognition.load_image_file('{}'.format(r['image']))\n",
    "    db_enc = face_recognition.face_encodings(db_img)[0]\n",
    "    # print(ctr, mydoc)\n",
    "    results = face_recognition.compare_faces([my_face_encoding], db_enc)\n",
    "    if(results[0] == True):\n",
    "        print(r['name'])\n",
    "        \n",
    "    else:\n",
    "        print('Unknown')\n",
    "\n"
   ]
  },
  {
   "cell_type": "code",
   "execution_count": 7,
   "metadata": {},
   "outputs": [],
   "source": [
    "def Register(a,b):\n",
    "\n",
    "    path_reg = a\n",
    "\n",
    "    name = b\n",
    "\n",
    "    image = face_recognition.load_image_file('{}'.format(path_reg))\n",
    "    pil_image = Image.fromarray(image)\n",
    "\n",
    "    path_store = '/Users/aishaandatt/Downloads/IIT_Temp/faces-full-store/{}.jpg'.format(name)\n",
    "    pil_image.save(path_store)\n",
    "    ID = uuid.uuid4()\n",
    "    dict1 = [{'name': name, 'ID': (str)(ID), 'enc': (face_recognition.face_encodings(image)[0]).tolist(),\n",
    "                    'image': path_store}]\n",
    "    print('{} is Registered'.format(name))\n",
    "    collection.insert(dict1)"
   ]
  },
  {
   "cell_type": "code",
   "execution_count": 14,
   "metadata": {},
   "outputs": [
    {
     "name": "stdout",
     "output_type": "stream",
     "text": [
      "Shah Rukh Khan is Registered\n"
     ]
    },
    {
     "name": "stderr",
     "output_type": "stream",
     "text": [
      "<ipython-input-7-e939a5e9bebc>:16: DeprecationWarning: insert is deprecated. Use insert_one or insert_many instead.\n",
      "  collection.insert(dict1)\n"
     ]
    }
   ],
   "source": [
    "Register('/Users/aishaandatt/Downloads/IIT_Temp/faces-full/Shah_Rukh_Khan_image.jpeg','Shah Rukh Khan')"
   ]
  },
  {
   "cell_type": "code",
   "execution_count": null,
   "metadata": {},
   "outputs": [],
   "source": []
  }
 ],
 "metadata": {
  "interpreter": {
   "hash": "d53b70d271a4bea04a667c0f9fbea9726ae2936282e68563ea6cd37a0552f713"
  },
  "kernelspec": {
   "display_name": "Python 3.8.5 64-bit ('base': conda)",
   "language": "python",
   "name": "python3"
  },
  "language_info": {
   "codemirror_mode": {
    "name": "ipython",
    "version": 3
   },
   "file_extension": ".py",
   "mimetype": "text/x-python",
   "name": "python",
   "nbconvert_exporter": "python",
   "pygments_lexer": "ipython3",
   "version": "3.8.5"
  },
  "orig_nbformat": 4
 },
 "nbformat": 4,
 "nbformat_minor": 2
}
