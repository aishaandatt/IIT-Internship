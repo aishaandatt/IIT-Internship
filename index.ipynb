{
 "cells": [
  {
   "cell_type": "code",
   "execution_count": 1,
   "metadata": {},
   "outputs": [],
   "source": [
    "import os"
   ]
  },
  {
   "cell_type": "code",
   "execution_count": 9,
   "metadata": {},
   "outputs": [],
   "source": [
    "k=sorted(os.listdir('/Users/aishaandatt/Downloads/IIT_Temp/prototype_faces'))"
   ]
  },
  {
   "cell_type": "code",
   "execution_count": 12,
   "metadata": {},
   "outputs": [
    {
     "data": {
      "text/plain": [
       "['Aamir_Khan',\n",
       " 'Abhay_deol',\n",
       " 'Abhishek_Bachchan',\n",
       " 'Aftab_shivdasani',\n",
       " 'Aishwarya_rai',\n",
       " 'Ajay_devgn',\n",
       " 'Akshay_kumar',\n",
       " 'Akshaye_khanna',\n",
       " 'Alia_bhatt',\n",
       " 'Ameesha_patel',\n",
       " 'Amitabh_bachchan',\n",
       " 'Amrita_rao',\n",
       " 'Amy_jackson',\n",
       " 'Anil_kapoor',\n",
       " 'Anushka_sharma',\n",
       " 'Anushka_shetty',\n",
       " 'Arjun_kapoor',\n",
       " 'Arjun_rampal',\n",
       " 'Arshad_warsi',\n",
       " 'Asin',\n",
       " 'Wade.jpg']"
      ]
     },
     "execution_count": 12,
     "metadata": {},
     "output_type": "execute_result"
    }
   ],
   "source": [
    "k"
   ]
  },
  {
   "cell_type": "code",
   "execution_count": 10,
   "metadata": {},
   "outputs": [],
   "source": [
    "pred=3"
   ]
  },
  {
   "cell_type": "code",
   "execution_count": 14,
   "metadata": {},
   "outputs": [],
   "source": [
    "x=os.listdir(os.path.join('/Users/aishaandatt/Downloads/IIT_Temp/prototype_faces',k[pred]))"
   ]
  },
  {
   "cell_type": "code",
   "execution_count": 18,
   "metadata": {},
   "outputs": [
    {
     "data": {
      "text/plain": [
       "['0_19.jpg', '0_11.jpg', '0_10.jpg', '0_6.jpg', '0_4.jpg']"
      ]
     },
     "execution_count": 18,
     "metadata": {},
     "output_type": "execute_result"
    }
   ],
   "source": [
    "x"
   ]
  },
  {
   "cell_type": "code",
   "execution_count": 1,
   "metadata": {},
   "outputs": [],
   "source": [
    "os.mkdir('lfw_new')"
   ]
  },
  {
   "cell_type": "code",
   "execution_count": 7,
   "metadata": {},
   "outputs": [],
   "source": [
    "import random\n",
    "import shutil"
   ]
  },
  {
   "cell_type": "code",
   "execution_count": 14,
   "metadata": {},
   "outputs": [],
   "source": [
    "for i in os.listdir('lfw-deepfunneled'):\n",
    "    ctr=1\n",
    "    for j in os.listdir(os.path.join('lfw-deepfunneled',i)):\n",
    "        while(ctr>0):\n",
    "            shutil.move((os.path.join('/Users/aishaandatt/Downloads/IIT_Temp/lfw-deepfunneled',i,j)),'lfw_new/{}'.format(j))\n",
    "            ctr=ctr-1"
   ]
  },
  {
   "cell_type": "code",
   "execution_count": null,
   "metadata": {},
   "outputs": [],
   "source": []
  }
 ],
 "metadata": {
  "interpreter": {
   "hash": "d53b70d271a4bea04a667c0f9fbea9726ae2936282e68563ea6cd37a0552f713"
  },
  "kernelspec": {
   "display_name": "Python 3.8.5 64-bit ('base': conda)",
   "language": "python",
   "name": "python3"
  },
  "language_info": {
   "codemirror_mode": {
    "name": "ipython",
    "version": 3
   },
   "file_extension": ".py",
   "mimetype": "text/x-python",
   "name": "python",
   "nbconvert_exporter": "python",
   "pygments_lexer": "ipython3",
   "version": "3.8.5"
  },
  "orig_nbformat": 4
 },
 "nbformat": 4,
 "nbformat_minor": 2
}
